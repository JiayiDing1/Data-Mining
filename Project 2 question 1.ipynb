{
 "cells": [
  {
   "cell_type": "code",
   "execution_count": 2,
   "id": "481f9ebb",
   "metadata": {},
   "outputs": [],
   "source": [
    "import math\n",
    "import seaborn as sns\n",
    "import matplotlib.pyplot as plt"
   ]
  },
  {
   "cell_type": "code",
   "execution_count": 2,
   "id": "3ee63561",
   "metadata": {},
   "outputs": [],
   "source": [
    "#This program will compute values of a formula that expresses y in terms of x."
   ]
  },
  {
   "cell_type": "code",
   "execution_count": 12,
   "id": "08651c4a",
   "metadata": {},
   "outputs": [
    {
     "name": "stdout",
     "output_type": "stream",
     "text": [
      "This is our first program for Janet Ding and Jiang Li\n",
      "X= -3 y= -6.9362217746283275 \t Y IS NEGATIVE\n",
      "X= -2.5 y= -4.2376388309490745 \t Y IS NEGATIVE\n",
      "X= -2.0 y= -1.9240901616610293 \t Y IS NEGATIVE\n",
      "X= -1.5 y= 0.0 \t Y IS ZERO\n",
      "X= -1.0 y= 1.5214041043942683 \t Y IS POSITIVE\n",
      "X= -0.5 y= 2.5919264584373525 \t Y IS POSITIVE\n",
      "X= 0.0 y= 3.0288706694179983 \t Y IS POSITIVE\n",
      "X= 0.5 y= 2.563190450240003 \t Y IS POSITIVE\n",
      "X= 1.0 y= 1.399432972781441 \t Y IS POSITIVE\n",
      "X= 1.5 y= 0.0 \t Y IS ZERO\n",
      "X= 2.0 y= -1.1307802693045066 \t Y IS NEGATIVE\n",
      "X= 2.5 y= -1.387375951238592 \t Y IS NEGATIVE\n",
      "X= 3.0 y= 0.0 \t Y IS ZERO\n",
      "X= 3.5 y= 1.8259859392786852 \t Y IS POSITIVE\n",
      "X= 4.0 y= 4.057428058260047 \t Y IS POSITIVE\n",
      "First program is complete\n"
     ]
    },
    {
     "data": {
      "text/plain": [
       "[<matplotlib.lines.Line2D at 0x1bafcebcd90>]"
      ]
     },
     "execution_count": 12,
     "metadata": {},
     "output_type": "execute_result"
    },
    {
     "data": {
      "image/png": "[encoded data removed]",
      "text/plain": [
       "<Figure size 432x288 with 1 Axes>"
      ]
     },
     "metadata": {
      "needs_background": "light"
     },
     "output_type": "display_data"
    }
   ],
   "source": [
    "# Start by testing -3\n",
    "x=-3\n",
    "print('This is our first program for Janet Ding and Jiang Li')\n",
    "# x increase by 0.5\n",
    "i=0.5\n",
    "X =[]\n",
    "Y =[]\n",
    "# limit the loop testing from -3 to 4\n",
    "while -3 <= x <= 4:\n",
    "    # define formula\n",
    "    y = (4*x*x*x-12*x*x-9*x+27)/(math.sqrt(5*x*x+2)+3*abs(x-2.5))\n",
    "    if y < 0:\n",
    "        z ='Y IS NEGATIVE'\n",
    "    elif y == 0:\n",
    "        z ='Y IS ZERO'\n",
    "    else:\n",
    "        z ='Y IS POSITIVE'\n",
    "    print('X=',x,'y=',y,'\\t',z)\n",
    "    X.append(x)\n",
    "    Y.append(y)\n",
    "    x += i\n",
    "\n",
    "print('First program is complete')\n",
    "plt.plot(X,Y)"
   ]
  },
  {
   "cell_type": "code",
   "execution_count": null,
   "id": "7cd4b811",
   "metadata": {},
   "outputs": [],
   "source": []
  },
  {
   "cell_type": "code",
   "execution_count": null,
   "id": "2d82cbc0",
   "metadata": {},
   "outputs": [],
   "source": []
  }
 ],
 "metadata": {
  "kernelspec": {
   "display_name": "Python 3 (ipykernel)",
   "language": "python",
   "name": "python3"
  },
  "language_info": {
   "codemirror_mode": {
    "name": "ipython",
    "version": 3
   },
   "file_extension": ".py",
   "mimetype": "text/x-python",
   "name": "python",
   "nbconvert_exporter": "python",
   "pygments_lexer": "ipython3",
   "version": "3.9.7"
  }
 },
 "nbformat": 4,
 "nbformat_minor": 5
}
