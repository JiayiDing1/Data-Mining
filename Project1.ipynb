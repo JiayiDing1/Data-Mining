{
 "cells": [
  {
   "cell_type": "code",
   "execution_count": 1,
   "metadata": {
    "id": "EaVTzGgfA0Ad"
   },
   "outputs": [],
   "source": [
    "import pandas as pd\n",
    "import matplotlib.pyplot as plt\n",
    "import seaborn as sns \n",
    "sns.set(color_codes = True)\n",
    "%matplotlib notebook\n",
    "%matplotlib inline"
   ]
  },
  {
   "cell_type": "code",
   "execution_count": 2,
   "metadata": {
    "colab": {
     "base_uri": "https://localhost:8080/",
     "height": 424
    },
    "id": "qkFBdxveA5fS",
    "outputId": "35d357d7-a9c8-4e02-e64d-6685430f5dd9"
   },
   "outputs": [
    {
     "data": {
      "text/html": [
       "<div>\n",
       "<style scoped>\n",
       "    .dataframe tbody tr th:only-of-type {\n",
       "        vertical-align: middle;\n",
       "    }\n",
       "\n",
       "    .dataframe tbody tr th {\n",
       "        vertical-align: top;\n",
       "    }\n",
       "\n",
       "    .dataframe thead th {\n",
       "        text-align: right;\n",
       "    }\n",
       "</style>\n",
       "<table border=\"1\" class=\"dataframe\">\n",
       "  <thead>\n",
       "    <tr style=\"text-align: right;\">\n",
       "      <th></th>\n",
       "      <th>mpg</th>\n",
       "      <th>cylinders</th>\n",
       "      <th>displacement</th>\n",
       "      <th>horsepower</th>\n",
       "      <th>weight</th>\n",
       "      <th>acceleration</th>\n",
       "      <th>model year</th>\n",
       "      <th>origin</th>\n",
       "      <th>car name</th>\n",
       "    </tr>\n",
       "  </thead>\n",
       "  <tbody>\n",
       "    <tr>\n",
       "      <th>0</th>\n",
       "      <td>18.0</td>\n",
       "      <td>8</td>\n",
       "      <td>307.0</td>\n",
       "      <td>130</td>\n",
       "      <td>3504</td>\n",
       "      <td>12.0</td>\n",
       "      <td>70</td>\n",
       "      <td>1</td>\n",
       "      <td>chevrolet chevelle malibu</td>\n",
       "    </tr>\n",
       "    <tr>\n",
       "      <th>28</th>\n",
       "      <td>9.0</td>\n",
       "      <td>8</td>\n",
       "      <td>304.0</td>\n",
       "      <td>193</td>\n",
       "      <td>4732</td>\n",
       "      <td>18.5</td>\n",
       "      <td>70</td>\n",
       "      <td>1</td>\n",
       "      <td>hi 1200d</td>\n",
       "    </tr>\n",
       "    <tr>\n",
       "      <th>27</th>\n",
       "      <td>11.0</td>\n",
       "      <td>8</td>\n",
       "      <td>318.0</td>\n",
       "      <td>210</td>\n",
       "      <td>4382</td>\n",
       "      <td>13.5</td>\n",
       "      <td>70</td>\n",
       "      <td>1</td>\n",
       "      <td>dodge d200</td>\n",
       "    </tr>\n",
       "    <tr>\n",
       "      <th>26</th>\n",
       "      <td>10.0</td>\n",
       "      <td>8</td>\n",
       "      <td>307.0</td>\n",
       "      <td>200</td>\n",
       "      <td>4376</td>\n",
       "      <td>15.0</td>\n",
       "      <td>70</td>\n",
       "      <td>1</td>\n",
       "      <td>chevy c20</td>\n",
       "    </tr>\n",
       "    <tr>\n",
       "      <th>25</th>\n",
       "      <td>10.0</td>\n",
       "      <td>8</td>\n",
       "      <td>360.0</td>\n",
       "      <td>215</td>\n",
       "      <td>4615</td>\n",
       "      <td>14.0</td>\n",
       "      <td>70</td>\n",
       "      <td>1</td>\n",
       "      <td>ford f250</td>\n",
       "    </tr>\n",
       "    <tr>\n",
       "      <th>...</th>\n",
       "      <td>...</td>\n",
       "      <td>...</td>\n",
       "      <td>...</td>\n",
       "      <td>...</td>\n",
       "      <td>...</td>\n",
       "      <td>...</td>\n",
       "      <td>...</td>\n",
       "      <td>...</td>\n",
       "      <td>...</td>\n",
       "    </tr>\n",
       "    <tr>\n",
       "      <th>368</th>\n",
       "      <td>27.0</td>\n",
       "      <td>4</td>\n",
       "      <td>112.0</td>\n",
       "      <td>88</td>\n",
       "      <td>2640</td>\n",
       "      <td>18.6</td>\n",
       "      <td>82</td>\n",
       "      <td>1</td>\n",
       "      <td>chevrolet cavalier wagon</td>\n",
       "    </tr>\n",
       "    <tr>\n",
       "      <th>367</th>\n",
       "      <td>28.0</td>\n",
       "      <td>4</td>\n",
       "      <td>112.0</td>\n",
       "      <td>88</td>\n",
       "      <td>2605</td>\n",
       "      <td>19.6</td>\n",
       "      <td>82</td>\n",
       "      <td>1</td>\n",
       "      <td>chevrolet cavalier</td>\n",
       "    </tr>\n",
       "    <tr>\n",
       "      <th>396</th>\n",
       "      <td>28.0</td>\n",
       "      <td>4</td>\n",
       "      <td>120.0</td>\n",
       "      <td>79</td>\n",
       "      <td>2625</td>\n",
       "      <td>18.6</td>\n",
       "      <td>82</td>\n",
       "      <td>1</td>\n",
       "      <td>ford ranger</td>\n",
       "    </tr>\n",
       "    <tr>\n",
       "      <th>381</th>\n",
       "      <td>36.0</td>\n",
       "      <td>4</td>\n",
       "      <td>107.0</td>\n",
       "      <td>75</td>\n",
       "      <td>2205</td>\n",
       "      <td>14.5</td>\n",
       "      <td>82</td>\n",
       "      <td>3</td>\n",
       "      <td>honda accord</td>\n",
       "    </tr>\n",
       "    <tr>\n",
       "      <th>397</th>\n",
       "      <td>31.0</td>\n",
       "      <td>4</td>\n",
       "      <td>119.0</td>\n",
       "      <td>82</td>\n",
       "      <td>2720</td>\n",
       "      <td>19.4</td>\n",
       "      <td>82</td>\n",
       "      <td>1</td>\n",
       "      <td>chevy s-10</td>\n",
       "    </tr>\n",
       "  </tbody>\n",
       "</table>\n",
       "<p>398 rows × 9 columns</p>\n",
       "</div>"
      ],
      "text/plain": [
       "      mpg  cylinders  displacement horsepower  weight  acceleration  \\\n",
       "0    18.0          8         307.0        130    3504          12.0   \n",
       "28    9.0          8         304.0        193    4732          18.5   \n",
       "27   11.0          8         318.0        210    4382          13.5   \n",
       "26   10.0          8         307.0        200    4376          15.0   \n",
       "25   10.0          8         360.0        215    4615          14.0   \n",
       "..    ...        ...           ...        ...     ...           ...   \n",
       "368  27.0          4         112.0         88    2640          18.6   \n",
       "367  28.0          4         112.0         88    2605          19.6   \n",
       "396  28.0          4         120.0         79    2625          18.6   \n",
       "381  36.0          4         107.0         75    2205          14.5   \n",
       "397  31.0          4         119.0         82    2720          19.4   \n",
       "\n",
       "     model year  origin                   car name  \n",
       "0            70       1  chevrolet chevelle malibu  \n",
       "28           70       1                   hi 1200d  \n",
       "27           70       1                 dodge d200  \n",
       "26           70       1                  chevy c20  \n",
       "25           70       1                  ford f250  \n",
       "..          ...     ...                        ...  \n",
       "368          82       1   chevrolet cavalier wagon  \n",
       "367          82       1         chevrolet cavalier  \n",
       "396          82       1                ford ranger  \n",
       "381          82       3               honda accord  \n",
       "397          82       1                 chevy s-10  \n",
       "\n",
       "[398 rows x 9 columns]"
      ]
     },
     "execution_count": 2,
     "metadata": {},
     "output_type": "execute_result"
    }
   ],
   "source": [
    "# read dataset\n",
    "auto = pd.read_csv('auto-mpg.csv')\n",
    "auto.sort_values('model year', ascending=True, inplace = True)\n",
    "\n",
    "auto"
   ]
  },
  {
   "cell_type": "code",
   "execution_count": 3,
   "metadata": {
    "colab": {
     "base_uri": "https://localhost:8080/"
    },
    "id": "JcgTFgzDNA2F",
    "outputId": "25562483-1e77-4b8f-effb-ae67a1af48a7"
   },
   "outputs": [
    {
     "data": {
      "text/plain": [
       "Index(['mpg', 'cylinders', 'displacement', 'horsepower', 'weight',\n",
       "       'acceleration', 'model year', 'origin', 'car name'],\n",
       "      dtype='object')"
      ]
     },
     "execution_count": 3,
     "metadata": {},
     "output_type": "execute_result"
    }
   ],
   "source": [
    "auto.columns"
   ]
  },
  {
   "cell_type": "code",
   "execution_count": 4,
   "metadata": {
    "colab": {
     "base_uri": "https://localhost:8080/",
     "height": 548
    },
    "id": "WlE_SYO-PY-Y",
    "outputId": "df37d2a1-1329-4d3a-cdc0-fe2e456cced2"
   },
   "outputs": [
    {
     "name": "stderr",
     "output_type": "stream",
     "text": [
      "C:\\Users\\q7901\\AppData\\Local\\Temp/ipykernel_19860/4147422826.py:3: SettingWithCopyWarning: \n",
      "A value is trying to be set on a copy of a slice from a DataFrame.\n",
      "Try using .loc[row_indexer,col_indexer] = value instead\n",
      "\n",
      "See the caveats in the documentation: https://pandas.pydata.org/pandas-docs/stable/user_guide/indexing.html#returning-a-view-versus-a-copy\n",
      "  df['horsepower'] = pd.to_numeric(df['horsepower'])\n"
     ]
    },
    {
     "data": {
      "text/html": [
       "<div>\n",
       "<style scoped>\n",
       "    .dataframe tbody tr th:only-of-type {\n",
       "        vertical-align: middle;\n",
       "    }\n",
       "\n",
       "    .dataframe tbody tr th {\n",
       "        vertical-align: top;\n",
       "    }\n",
       "\n",
       "    .dataframe thead th {\n",
       "        text-align: right;\n",
       "    }\n",
       "</style>\n",
       "<table border=\"1\" class=\"dataframe\">\n",
       "  <thead>\n",
       "    <tr style=\"text-align: right;\">\n",
       "      <th></th>\n",
       "      <th>mpg</th>\n",
       "      <th>cylinders</th>\n",
       "      <th>displacement</th>\n",
       "      <th>horsepower</th>\n",
       "      <th>weight</th>\n",
       "      <th>acceleration</th>\n",
       "      <th>model year</th>\n",
       "      <th>origin</th>\n",
       "      <th>car name</th>\n",
       "    </tr>\n",
       "  </thead>\n",
       "  <tbody>\n",
       "    <tr>\n",
       "      <th>0</th>\n",
       "      <td>18.0</td>\n",
       "      <td>8</td>\n",
       "      <td>307.0</td>\n",
       "      <td>130</td>\n",
       "      <td>3504</td>\n",
       "      <td>12.0</td>\n",
       "      <td>70</td>\n",
       "      <td>1</td>\n",
       "      <td>chevrolet chevelle malibu</td>\n",
       "    </tr>\n",
       "    <tr>\n",
       "      <th>28</th>\n",
       "      <td>9.0</td>\n",
       "      <td>8</td>\n",
       "      <td>304.0</td>\n",
       "      <td>193</td>\n",
       "      <td>4732</td>\n",
       "      <td>18.5</td>\n",
       "      <td>70</td>\n",
       "      <td>1</td>\n",
       "      <td>hi 1200d</td>\n",
       "    </tr>\n",
       "    <tr>\n",
       "      <th>27</th>\n",
       "      <td>11.0</td>\n",
       "      <td>8</td>\n",
       "      <td>318.0</td>\n",
       "      <td>210</td>\n",
       "      <td>4382</td>\n",
       "      <td>13.5</td>\n",
       "      <td>70</td>\n",
       "      <td>1</td>\n",
       "      <td>dodge d200</td>\n",
       "    </tr>\n",
       "    <tr>\n",
       "      <th>26</th>\n",
       "      <td>10.0</td>\n",
       "      <td>8</td>\n",
       "      <td>307.0</td>\n",
       "      <td>200</td>\n",
       "      <td>4376</td>\n",
       "      <td>15.0</td>\n",
       "      <td>70</td>\n",
       "      <td>1</td>\n",
       "      <td>chevy c20</td>\n",
       "    </tr>\n",
       "    <tr>\n",
       "      <th>25</th>\n",
       "      <td>10.0</td>\n",
       "      <td>8</td>\n",
       "      <td>360.0</td>\n",
       "      <td>215</td>\n",
       "      <td>4615</td>\n",
       "      <td>14.0</td>\n",
       "      <td>70</td>\n",
       "      <td>1</td>\n",
       "      <td>ford f250</td>\n",
       "    </tr>\n",
       "    <tr>\n",
       "      <th>...</th>\n",
       "      <td>...</td>\n",
       "      <td>...</td>\n",
       "      <td>...</td>\n",
       "      <td>...</td>\n",
       "      <td>...</td>\n",
       "      <td>...</td>\n",
       "      <td>...</td>\n",
       "      <td>...</td>\n",
       "      <td>...</td>\n",
       "    </tr>\n",
       "    <tr>\n",
       "      <th>368</th>\n",
       "      <td>27.0</td>\n",
       "      <td>4</td>\n",
       "      <td>112.0</td>\n",
       "      <td>88</td>\n",
       "      <td>2640</td>\n",
       "      <td>18.6</td>\n",
       "      <td>82</td>\n",
       "      <td>1</td>\n",
       "      <td>chevrolet cavalier wagon</td>\n",
       "    </tr>\n",
       "    <tr>\n",
       "      <th>367</th>\n",
       "      <td>28.0</td>\n",
       "      <td>4</td>\n",
       "      <td>112.0</td>\n",
       "      <td>88</td>\n",
       "      <td>2605</td>\n",
       "      <td>19.6</td>\n",
       "      <td>82</td>\n",
       "      <td>1</td>\n",
       "      <td>chevrolet cavalier</td>\n",
       "    </tr>\n",
       "    <tr>\n",
       "      <th>396</th>\n",
       "      <td>28.0</td>\n",
       "      <td>4</td>\n",
       "      <td>120.0</td>\n",
       "      <td>79</td>\n",
       "      <td>2625</td>\n",
       "      <td>18.6</td>\n",
       "      <td>82</td>\n",
       "      <td>1</td>\n",
       "      <td>ford ranger</td>\n",
       "    </tr>\n",
       "    <tr>\n",
       "      <th>381</th>\n",
       "      <td>36.0</td>\n",
       "      <td>4</td>\n",
       "      <td>107.0</td>\n",
       "      <td>75</td>\n",
       "      <td>2205</td>\n",
       "      <td>14.5</td>\n",
       "      <td>82</td>\n",
       "      <td>3</td>\n",
       "      <td>honda accord</td>\n",
       "    </tr>\n",
       "    <tr>\n",
       "      <th>397</th>\n",
       "      <td>31.0</td>\n",
       "      <td>4</td>\n",
       "      <td>119.0</td>\n",
       "      <td>82</td>\n",
       "      <td>2720</td>\n",
       "      <td>19.4</td>\n",
       "      <td>82</td>\n",
       "      <td>1</td>\n",
       "      <td>chevy s-10</td>\n",
       "    </tr>\n",
       "  </tbody>\n",
       "</table>\n",
       "<p>392 rows × 9 columns</p>\n",
       "</div>"
      ],
      "text/plain": [
       "      mpg  cylinders  displacement  horsepower  weight  acceleration  \\\n",
       "0    18.0          8         307.0         130    3504          12.0   \n",
       "28    9.0          8         304.0         193    4732          18.5   \n",
       "27   11.0          8         318.0         210    4382          13.5   \n",
       "26   10.0          8         307.0         200    4376          15.0   \n",
       "25   10.0          8         360.0         215    4615          14.0   \n",
       "..    ...        ...           ...         ...     ...           ...   \n",
       "368  27.0          4         112.0          88    2640          18.6   \n",
       "367  28.0          4         112.0          88    2605          19.6   \n",
       "396  28.0          4         120.0          79    2625          18.6   \n",
       "381  36.0          4         107.0          75    2205          14.5   \n",
       "397  31.0          4         119.0          82    2720          19.4   \n",
       "\n",
       "     model year  origin                   car name  \n",
       "0            70       1  chevrolet chevelle malibu  \n",
       "28           70       1                   hi 1200d  \n",
       "27           70       1                 dodge d200  \n",
       "26           70       1                  chevy c20  \n",
       "25           70       1                  ford f250  \n",
       "..          ...     ...                        ...  \n",
       "368          82       1   chevrolet cavalier wagon  \n",
       "367          82       1         chevrolet cavalier  \n",
       "396          82       1                ford ranger  \n",
       "381          82       3               honda accord  \n",
       "397          82       1                 chevy s-10  \n",
       "\n",
       "[392 rows x 9 columns]"
      ]
     },
     "execution_count": 4,
     "metadata": {},
     "output_type": "execute_result"
    }
   ],
   "source": [
    "f = auto['horsepower'] == '?'\n",
    "df = auto[~f]\n",
    "df['horsepower'] = pd.to_numeric(df['horsepower'])\n",
    "df"
   ]
  },
  {
   "cell_type": "code",
   "execution_count": 5,
   "metadata": {
    "colab": {
     "base_uri": "https://localhost:8080/",
     "height": 349
    },
    "id": "femX-bRkNFPJ",
    "outputId": "d84ff929-835b-407a-b6fe-553e430edcc0"
   },
   "outputs": [
    {
     "data": {
      "image/png": "[encoded data removed]",
      "text/plain": [
       "<Figure size 432x288 with 2 Axes>"
      ]
     },
     "metadata": {
      "needs_background": "light"
     },
     "output_type": "display_data"
    }
   ],
   "source": [
    "#correlation martix\n",
    "sns.heatmap(df.corr(), annot=True, fmt ='.0%')\n",
    "plt.title('Correlation Plot')\n",
    "plt.show()"
   ]
  },
  {
   "cell_type": "code",
   "execution_count": 149,
   "metadata": {
    "colab": {
     "base_uri": "https://localhost:8080/",
     "height": 386
    },
    "id": "SI8mBW0rNc4Z",
    "outputId": "28b16d83-c9e2-43b4-ab1e-69614acf474b"
   },
   "outputs": [
    {
     "data": {
      "image/png": "[encoded data removed]",
      "text/plain": [
       "<Figure size 432x288 with 1 Axes>"
      ]
     },
     "metadata": {
      "needs_background": "light"
     },
     "output_type": "display_data"
    }
   ],
   "source": [
    "#  distribution of year\n",
    "sns.countplot(x='model year', data=df,color='lightblue')\n",
    "plt.title('Number of Models per Year')\n",
    "plt.show()"
   ]
  },
  {
   "cell_type": "code",
   "execution_count": 7,
   "metadata": {
    "colab": {
     "base_uri": "https://localhost:8080/",
     "height": 386
    },
    "id": "HVfEnAXLQXD9",
    "outputId": "bf2696a8-8f24-496f-b45a-b391e81aa37d"
   },
   "outputs": [
    {
     "data": {
      "text/plain": [
       "Text(0.5, 1.0, 'Acceleration in different years')"
      ]
     },
     "execution_count": 7,
     "metadata": {},
     "output_type": "execute_result"
    },
    {
     "data": {
      "image/png": "[encoded data removed]",
      "text/plain": [
       "<Figure size 432x288 with 1 Axes>"
      ]
     },
     "metadata": {
      "needs_background": "light"
     },
     "output_type": "display_data"
    }
   ],
   "source": [
    "#  distribution of cylinders \n",
    "sns.stripplot(x=\"model year\",y=\"acceleration\",data=df)\n",
    "plt.title(\"Acceleration in different years\",fontsize=13)"
   ]
  },
  {
   "cell_type": "code",
   "execution_count": 8,
   "metadata": {
    "colab": {
     "base_uri": "https://localhost:8080/",
     "height": 657
    },
    "id": "uxQpCyGuNkNv",
    "outputId": "c047b8c3-23c6-42de-b45b-6822af999bdb"
   },
   "outputs": [
    {
     "data": {
      "text/plain": [
       "Text(0.5, 1.0, 'Mpg vs. Weight')"
      ]
     },
     "execution_count": 8,
     "metadata": {},
     "output_type": "execute_result"
    },
    {
     "data": {
      "image/png": "[encoded data removed]",
      "text/plain": [
       "<Figure size 432x288 with 1 Axes>"
      ]
     },
     "metadata": {
      "needs_background": "light"
     },
     "output_type": "display_data"
    }
   ],
   "source": [
    "# Plot for horsepower and weight\n",
    "sns.regplot(x=\"horsepower\",y=\"weight\",data=df)\n",
    "plt.title(\"Mpg vs. Weight\",fontsize=13)"
   ]
  },
  {
   "cell_type": "code",
   "execution_count": 9,
   "metadata": {
    "colab": {
     "base_uri": "https://localhost:8080/",
     "height": 657
    },
    "id": "veYg0y0eNVx_",
    "outputId": "04dceedd-107d-4f50-9d6e-70a012a3fa8c"
   },
   "outputs": [
    {
     "data": {
      "text/plain": [
       "Text(0.5, 1.0, 'Displacement at Different mpg')"
      ]
     },
     "execution_count": 9,
     "metadata": {},
     "output_type": "execute_result"
    },
    {
     "data": {
      "image/png": "[encoded data removed]",
      "text/plain": [
       "<Figure size 432x288 with 1 Axes>"
      ]
     },
     "metadata": {
      "needs_background": "light"
     },
     "output_type": "display_data"
    }
   ],
   "source": [
    "# Plot for mpg and displacement\n",
    "sns.regplot(y= 'displacement',x='mpg',data=df)\n",
    "plt.title('Displacement at Different mpg')"
   ]
  },
  {
   "cell_type": "code",
   "execution_count": 101,
   "metadata": {
    "id": "HXx2jt4F6L7K"
   },
   "outputs": [],
   "source": [
    "# divide data into training and test sets (70:30)\n",
    "from sklearn.model_selection import train_test_split\n",
    "X = df.drop(['model year','origin','car name','cylinders'], axis = 1).values\n",
    "\n",
    "y = df['model year'].values\n",
    "\n",
    "X_train, X_test, y_train, y_test = train_test_split(X, y, test_size = 0.30, random_state = 0)"
   ]
  },
  {
   "cell_type": "code",
   "execution_count": 102,
   "metadata": {
    "id": "Fu29QWnq6MPE"
   },
   "outputs": [],
   "source": [
    "# Perform standardization\n",
    "from sklearn.preprocessing import StandardScaler\n",
    "sc = StandardScaler()\n",
    "X_train = sc.fit_transform(X_train)\n",
    "X_test = sc.transform(X_test)"
   ]
  },
  {
   "cell_type": "code",
   "execution_count": 103,
   "metadata": {
    "id": "oiknafg15-TJ"
   },
   "outputs": [],
   "source": [
    "# 5 fold cross validation\n",
    "from sklearn.model_selection import cross_val_score\n",
    "from sklearn.model_selection import KFold \n",
    "\n",
    "k = 5\n",
    "kf = KFold(n_splits=k)"
   ]
  },
  {
   "cell_type": "markdown",
   "metadata": {
    "id": "GBJmCIR451tQ"
   },
   "source": [
    "Logistic Regression Model"
   ]
  },
  {
   "cell_type": "code",
   "execution_count": 104,
   "metadata": {
    "colab": {
     "base_uri": "https://localhost:8080/"
    },
    "id": "IOamLVOdREx1",
    "outputId": "0d6e8b07-eec3-46bf-dc63-7f7054c5aec5"
   },
   "outputs": [
    {
     "data": {
      "text/plain": [
       "LogisticRegression()"
      ]
     },
     "execution_count": 104,
     "metadata": {},
     "output_type": "execute_result"
    }
   ],
   "source": [
    "from sklearn.linear_model import LogisticRegression\n",
    "lr = LogisticRegression()\n",
    "lr.fit(X_train, y_train.ravel())"
   ]
  },
  {
   "cell_type": "code",
   "execution_count": 105,
   "metadata": {
    "colab": {
     "base_uri": "https://localhost:8080/"
    },
    "id": "tpir23NQ81Hr",
    "outputId": "eafc869c-54d3-48bc-d48f-9d7144d3b5e4"
   },
   "outputs": [
    {
     "name": "stdout",
     "output_type": "stream",
     "text": [
      " Avg accuracy: 0.16794612794612793\n"
     ]
    }
   ],
   "source": [
    "# 5 fold cross validation\n",
    "result_lr= cross_val_score(lr, X_train, y_train.ravel(), cv = kf, scoring='accuracy')\n",
    "\n",
    "print(f' Avg accuracy: {result_lr.mean()}')"
   ]
  },
  {
   "cell_type": "code",
   "execution_count": 106,
   "metadata": {
    "colab": {
     "base_uri": "https://localhost:8080/"
    },
    "id": "yEkNvime9Qdl",
    "outputId": "9d3b89f2-1559-40c5-c227-92b1e1bbdefd"
   },
   "outputs": [
    {
     "name": "stdout",
     "output_type": "stream",
     "text": [
      "              precision    recall  f1-score   support\n",
      "\n",
      "          70       0.55      0.55      0.55        11\n",
      "          71       0.00      0.00      0.00         6\n",
      "          72       0.00      0.00      0.00        11\n",
      "          73       0.18      0.67      0.29         9\n",
      "          74       0.00      0.00      0.00         9\n",
      "          75       0.14      0.11      0.12         9\n",
      "          76       0.07      0.17      0.10         6\n",
      "          77       0.00      0.00      0.00        13\n",
      "          78       0.00      0.00      0.00         9\n",
      "          79       0.00      0.00      0.00        10\n",
      "          80       0.17      0.11      0.13         9\n",
      "          81       0.00      0.00      0.00         8\n",
      "          82       0.08      0.12      0.10         8\n",
      "\n",
      "    accuracy                           0.14       118\n",
      "   macro avg       0.09      0.13      0.10       118\n",
      "weighted avg       0.10      0.14      0.10       118\n",
      "\n"
     ]
    },
    {
     "name": "stderr",
     "output_type": "stream",
     "text": [
      "D:\\Anaconda3\\lib\\site-packages\\sklearn\\metrics\\_classification.py:1248: UndefinedMetricWarning: Precision and F-score are ill-defined and being set to 0.0 in labels with no predicted samples. Use `zero_division` parameter to control this behavior.\n",
      "  _warn_prf(average, modifier, msg_start, len(result))\n",
      "D:\\Anaconda3\\lib\\site-packages\\sklearn\\metrics\\_classification.py:1248: UndefinedMetricWarning: Precision and F-score are ill-defined and being set to 0.0 in labels with no predicted samples. Use `zero_division` parameter to control this behavior.\n",
      "  _warn_prf(average, modifier, msg_start, len(result))\n",
      "D:\\Anaconda3\\lib\\site-packages\\sklearn\\metrics\\_classification.py:1248: UndefinedMetricWarning: Precision and F-score are ill-defined and being set to 0.0 in labels with no predicted samples. Use `zero_division` parameter to control this behavior.\n",
      "  _warn_prf(average, modifier, msg_start, len(result))\n"
     ]
    }
   ],
   "source": [
    "# prediction\n",
    "y_pred_lr = lr.predict(X_test)\n",
    "\n",
    "# Classification Report\n",
    "from sklearn.metrics import classification_report\n",
    "print(classification_report(y_test, y_pred_lr))"
   ]
  },
  {
   "cell_type": "code",
   "execution_count": 107,
   "metadata": {
    "colab": {
     "base_uri": "https://localhost:8080/"
    },
    "id": "pQpQs3lEW7rN",
    "outputId": "33def283-2f24-4b8a-ee94-7b9495a82a39"
   },
   "outputs": [
    {
     "name": "stderr",
     "output_type": "stream",
     "text": [
      "D:\\Anaconda3\\lib\\site-packages\\sklearn\\metrics\\_classification.py:1248: UndefinedMetricWarning: Precision and F-score are ill-defined and being set to 0.0 in labels with no predicted samples. Use `zero_division` parameter to control this behavior.\n",
      "  _warn_prf(average, modifier, msg_start, len(result))\n"
     ]
    },
    {
     "data": {
      "text/plain": [
       "[0.15, 0.0971697793731692, 0.13559322033898305, 0.10388418079096044]"
      ]
     },
     "execution_count": 107,
     "metadata": {},
     "output_type": "execute_result"
    }
   ],
   "source": [
    "# save data value\n",
    "from sklearn.metrics import precision_recall_fscore_support as score\n",
    "precision,recall,fscore,support=score(y_test, y_pred_lr,average='weighted')\n",
    "value = [0.15, precision, recall,fscore]\n",
    "value"
   ]
  },
  {
   "cell_type": "markdown",
   "metadata": {
    "id": "vvtkfkGt9oof"
   },
   "source": [
    "Gaussian Navie Bayes Model"
   ]
  },
  {
   "cell_type": "code",
   "execution_count": 108,
   "metadata": {
    "colab": {
     "base_uri": "https://localhost:8080/"
    },
    "id": "yAyNX5Wx9VXI",
    "outputId": "db399665-7502-4719-db16-fcd72a7c39db"
   },
   "outputs": [
    {
     "data": {
      "text/plain": [
       "GaussianNB()"
      ]
     },
     "execution_count": 108,
     "metadata": {},
     "output_type": "execute_result"
    }
   ],
   "source": [
    "from sklearn.naive_bayes import GaussianNB\n",
    "gnb = GaussianNB()\n",
    "gnb.fit(X_train, y_train.ravel())"
   ]
  },
  {
   "cell_type": "code",
   "execution_count": 109,
   "metadata": {
    "colab": {
     "base_uri": "https://localhost:8080/"
    },
    "id": "LhMWOG5q9z8Q",
    "outputId": "97b646e8-0a74-40c4-db1d-d40c6c3430f3"
   },
   "outputs": [
    {
     "name": "stdout",
     "output_type": "stream",
     "text": [
      " Avg accuracy:0.1385858585858586\n"
     ]
    }
   ],
   "source": [
    "# 5 fold cross validation\n",
    "result_gnb = cross_val_score(gnb, X_train, y_train.ravel(), cv = kf, scoring='accuracy')\n",
    "\n",
    "print(f' Avg accuracy:{result_gnb.mean()}')"
   ]
  },
  {
   "cell_type": "code",
   "execution_count": 110,
   "metadata": {
    "colab": {
     "base_uri": "https://localhost:8080/"
    },
    "id": "JykvW0ln98HT",
    "outputId": "e7b32cff-d20d-40ef-ad69-1d4670201759"
   },
   "outputs": [
    {
     "name": "stdout",
     "output_type": "stream",
     "text": [
      "              precision    recall  f1-score   support\n",
      "\n",
      "          70       0.36      0.45      0.40        11\n",
      "          71       0.00      0.00      0.00         6\n",
      "          72       0.00      0.00      0.00        11\n",
      "          73       0.16      0.33      0.21         9\n",
      "          74       0.00      0.00      0.00         9\n",
      "          75       0.10      0.22      0.13         9\n",
      "          76       0.00      0.00      0.00         6\n",
      "          77       0.00      0.00      0.00        13\n",
      "          78       0.14      0.11      0.12         9\n",
      "          79       0.00      0.00      0.00        10\n",
      "          80       0.50      0.44      0.47         9\n",
      "          81       0.00      0.00      0.00         8\n",
      "          82       0.11      0.50      0.18         8\n",
      "\n",
      "    accuracy                           0.16       118\n",
      "   macro avg       0.10      0.16      0.12       118\n",
      "weighted avg       0.11      0.16      0.12       118\n",
      "\n"
     ]
    },
    {
     "name": "stderr",
     "output_type": "stream",
     "text": [
      "D:\\Anaconda3\\lib\\site-packages\\sklearn\\metrics\\_classification.py:1248: UndefinedMetricWarning: Precision and F-score are ill-defined and being set to 0.0 in labels with no predicted samples. Use `zero_division` parameter to control this behavior.\n",
      "  _warn_prf(average, modifier, msg_start, len(result))\n",
      "D:\\Anaconda3\\lib\\site-packages\\sklearn\\metrics\\_classification.py:1248: UndefinedMetricWarning: Precision and F-score are ill-defined and being set to 0.0 in labels with no predicted samples. Use `zero_division` parameter to control this behavior.\n",
      "  _warn_prf(average, modifier, msg_start, len(result))\n",
      "D:\\Anaconda3\\lib\\site-packages\\sklearn\\metrics\\_classification.py:1248: UndefinedMetricWarning: Precision and F-score are ill-defined and being set to 0.0 in labels with no predicted samples. Use `zero_division` parameter to control this behavior.\n",
      "  _warn_prf(average, modifier, msg_start, len(result))\n"
     ]
    }
   ],
   "source": [
    "# Prediction\n",
    "y_pred_gnb = gnb.predict(X_test)\n",
    "\n",
    "# Generating Classification Report\n",
    "print(classification_report(y_test, y_pred_gnb))"
   ]
  },
  {
   "cell_type": "code",
   "execution_count": 111,
   "metadata": {
    "colab": {
     "base_uri": "https://localhost:8080/"
    },
    "id": "cvgQZs_vXNgU",
    "outputId": "de47fa38-230d-461d-fdf4-ceabb03333eb"
   },
   "outputs": [
    {
     "name": "stderr",
     "output_type": "stream",
     "text": [
      "D:\\Anaconda3\\lib\\site-packages\\sklearn\\metrics\\_classification.py:1248: UndefinedMetricWarning: Precision and F-score are ill-defined and being set to 0.0 in labels with no predicted samples. Use `zero_division` parameter to control this behavior.\n",
      "  _warn_prf(average, modifier, msg_start, len(result))\n"
     ]
    },
    {
     "data": {
      "text/plain": [
       "[0.15,\n",
       " 0.0971697793731692,\n",
       " 0.13559322033898305,\n",
       " 0.10388418079096044,\n",
       " 0.18,\n",
       " 0.10896055989722359,\n",
       " 0.16101694915254236,\n",
       " 0.12128040481729414]"
      ]
     },
     "execution_count": 111,
     "metadata": {},
     "output_type": "execute_result"
    }
   ],
   "source": [
    "# save data value\n",
    "precision,recall,fscore,support=score(y_test, y_pred_gnb,average='weighted')\n",
    "temp = [0.18, precision, recall,fscore]\n",
    "for i in temp:\n",
    "    value.append(i)\n",
    "value"
   ]
  },
  {
   "cell_type": "markdown",
   "metadata": {
    "id": "vCeSKEgr-Em_"
   },
   "source": [
    "Decision Trees Model"
   ]
  },
  {
   "cell_type": "code",
   "execution_count": 112,
   "metadata": {
    "colab": {
     "base_uri": "https://localhost:8080/"
    },
    "id": "_9qZ2tig-KJQ",
    "outputId": "857c9e63-4424-4477-ce39-cbada23a780e"
   },
   "outputs": [
    {
     "data": {
      "text/plain": [
       "DecisionTreeClassifier()"
      ]
     },
     "execution_count": 112,
     "metadata": {},
     "output_type": "execute_result"
    }
   ],
   "source": [
    "from sklearn.tree import DecisionTreeClassifier\n",
    "dt = DecisionTreeClassifier()\n",
    "dt.fit(X_train, y_train)"
   ]
  },
  {
   "cell_type": "code",
   "execution_count": 113,
   "metadata": {
    "colab": {
     "base_uri": "https://localhost:8080/"
    },
    "id": "5v5cIRyh-SWI",
    "outputId": "2acf5879-5f3e-45c7-98fb-1a5f7d8ec891"
   },
   "outputs": [
    {
     "name": "stdout",
     "output_type": "stream",
     "text": [
      " Avg accuracy:0.20457912457912455\n"
     ]
    }
   ],
   "source": [
    "# 5 fold cross validation\n",
    "result_dt = cross_val_score(dt, X_train, y_train.ravel(), cv = kf, scoring='accuracy')\n",
    " \n",
    "print(f' Avg accuracy:{result_dt.mean()}')"
   ]
  },
  {
   "cell_type": "code",
   "execution_count": 114,
   "metadata": {
    "colab": {
     "base_uri": "https://localhost:8080/"
    },
    "id": "KDwFpW21-X-p",
    "outputId": "37b084ac-e3f0-4096-97ce-ffd290f2a086"
   },
   "outputs": [
    {
     "name": "stdout",
     "output_type": "stream",
     "text": [
      "              precision    recall  f1-score   support\n",
      "\n",
      "          70       0.36      0.45      0.40        11\n",
      "          71       0.67      0.33      0.44         6\n",
      "          72       0.22      0.18      0.20        11\n",
      "          73       0.31      0.44      0.36         9\n",
      "          74       0.33      0.22      0.27         9\n",
      "          75       0.12      0.11      0.12         9\n",
      "          76       0.00      0.00      0.00         6\n",
      "          77       0.38      0.23      0.29        13\n",
      "          78       0.06      0.11      0.08         9\n",
      "          79       0.00      0.00      0.00        10\n",
      "          80       0.17      0.11      0.13         9\n",
      "          81       0.00      0.00      0.00         8\n",
      "          82       0.09      0.12      0.11         8\n",
      "\n",
      "    accuracy                           0.19       118\n",
      "   macro avg       0.21      0.18      0.18       118\n",
      "weighted avg       0.21      0.19      0.19       118\n",
      "\n"
     ]
    }
   ],
   "source": [
    "# Prediction\n",
    "y_pred_dt = dt.predict(X_test)\n",
    "\n",
    "# Classification Report\n",
    "print(classification_report(y_test, y_pred_dt))"
   ]
  },
  {
   "cell_type": "code",
   "execution_count": 115,
   "metadata": {
    "colab": {
     "base_uri": "https://localhost:8080/"
    },
    "id": "X8-KlopjXq7x",
    "outputId": "99e5b912-f3a2-4e66-ca27-d5616e3d6016"
   },
   "outputs": [
    {
     "data": {
      "text/plain": [
       "[0.15,\n",
       " 0.0971697793731692,\n",
       " 0.13559322033898305,\n",
       " 0.10388418079096044,\n",
       " 0.18,\n",
       " 0.10896055989722359,\n",
       " 0.16101694915254236,\n",
       " 0.12128040481729414,\n",
       " 0.14,\n",
       " 0.2110078909680106,\n",
       " 0.1864406779661017,\n",
       " 0.19022810286912714]"
      ]
     },
     "execution_count": 115,
     "metadata": {},
     "output_type": "execute_result"
    }
   ],
   "source": [
    "# save data value\n",
    "precision,recall,fscore,support=score(y_test, y_pred_dt,average='weighted')\n",
    "temp = [0.14, precision, recall,fscore]\n",
    "for i in temp:\n",
    "  value.append(i)\n",
    "value"
   ]
  },
  {
   "cell_type": "markdown",
   "metadata": {
    "id": "kz4gMMNn-mQJ"
   },
   "source": [
    "Random Forests Model"
   ]
  },
  {
   "cell_type": "code",
   "execution_count": 116,
   "metadata": {
    "colab": {
     "base_uri": "https://localhost:8080/"
    },
    "id": "A6uEfKPc-qsI",
    "outputId": "1881a9e6-0206-42ab-bda6-3fe8efc0e5ed"
   },
   "outputs": [
    {
     "data": {
      "text/plain": [
       "RandomForestClassifier(n_estimators=10, random_state=1)"
      ]
     },
     "execution_count": 116,
     "metadata": {},
     "output_type": "execute_result"
    }
   ],
   "source": [
    "from sklearn.ensemble import RandomForestClassifier\n",
    "rf = RandomForestClassifier(n_estimators=10, criterion='gini',random_state=1)\n",
    "rf.fit(X_train,y_train.ravel())"
   ]
  },
  {
   "cell_type": "code",
   "execution_count": 117,
   "metadata": {
    "colab": {
     "base_uri": "https://localhost:8080/"
    },
    "id": "4B8kE6o7-7k8",
    "outputId": "ce5aff13-3af0-4fcc-83a4-e313461a0d3d"
   },
   "outputs": [
    {
     "name": "stdout",
     "output_type": "stream",
     "text": [
      " Avg accuracy:0.18626262626262627\n"
     ]
    }
   ],
   "source": [
    "# 5 fold cross validation\n",
    "result_rf = cross_val_score(rf, X_train, y_train.ravel(), cv = kf, scoring='accuracy')\n",
    "\n",
    "print(f' Avg accuracy:{result_rf.mean()}')"
   ]
  },
  {
   "cell_type": "code",
   "execution_count": 118,
   "metadata": {
    "colab": {
     "base_uri": "https://localhost:8080/"
    },
    "id": "qobEhJXM_Dw8",
    "outputId": "75be1791-610d-46f5-aba9-289e3a8e52c4"
   },
   "outputs": [
    {
     "name": "stdout",
     "output_type": "stream",
     "text": [
      "              precision    recall  f1-score   support\n",
      "\n",
      "          70       0.46      0.55      0.50        11\n",
      "          71       0.20      0.33      0.25         6\n",
      "          72       0.10      0.09      0.10        11\n",
      "          73       0.25      0.22      0.24         9\n",
      "          74       0.25      0.33      0.29         9\n",
      "          75       0.10      0.11      0.11         9\n",
      "          76       0.00      0.00      0.00         6\n",
      "          77       0.17      0.08      0.11        13\n",
      "          78       0.07      0.11      0.08         9\n",
      "          79       0.25      0.10      0.14        10\n",
      "          80       0.00      0.00      0.00         9\n",
      "          81       0.10      0.12      0.11         8\n",
      "          82       0.40      0.25      0.31         8\n",
      "\n",
      "    accuracy                           0.18       118\n",
      "   macro avg       0.18      0.18      0.17       118\n",
      "weighted avg       0.19      0.18      0.17       118\n",
      "\n"
     ]
    }
   ],
   "source": [
    "# predictioon\n",
    "y_pred_rf = rf.predict(X_test)\n",
    "\n",
    "# Classification Report\n",
    "print(classification_report(y_test, y_pred_rf))"
   ]
  },
  {
   "cell_type": "code",
   "execution_count": 119,
   "metadata": {
    "colab": {
     "base_uri": "https://localhost:8080/"
    },
    "id": "a8C3QTJhXvQ8",
    "outputId": "cef6f673-d0c3-4855-e8d6-5fe3e8976834"
   },
   "outputs": [
    {
     "data": {
      "text/plain": [
       "[0.15,\n",
       " 0.0971697793731692,\n",
       " 0.13559322033898305,\n",
       " 0.10388418079096044,\n",
       " 0.18,\n",
       " 0.10896055989722359,\n",
       " 0.16101694915254236,\n",
       " 0.12128040481729414,\n",
       " 0.14,\n",
       " 0.2110078909680106,\n",
       " 0.1864406779661017,\n",
       " 0.19022810286912714,\n",
       " 0.14,\n",
       " 0.1868100825727944,\n",
       " 0.17796610169491525,\n",
       " 0.17441934686910288]"
      ]
     },
     "execution_count": 119,
     "metadata": {},
     "output_type": "execute_result"
    }
   ],
   "source": [
    "# save data value\n",
    "precision,recall,fscore,support=score(y_test, y_pred_rf,average='weighted')\n",
    "temp = [0.14, precision, recall,fscore]\n",
    "for i in temp:\n",
    "  value.append(i)\n",
    "value"
   ]
  },
  {
   "cell_type": "markdown",
   "metadata": {
    "id": "06bfEeEB_Oag"
   },
   "source": [
    "Support Vector Machines Model"
   ]
  },
  {
   "cell_type": "code",
   "execution_count": 120,
   "metadata": {
    "id": "rl6GN1pW_X2e"
   },
   "outputs": [],
   "source": [
    "from sklearn import svm\n",
    "linear = svm.SVC(kernel='linear', C=1, decision_function_shape='ovo').fit(X_train, y_train)\n",
    "poly = svm.SVC(kernel='poly', degree=3, C=1, decision_function_shape='ovo').fit(X_train, y_train)\n",
    "rbf = svm.SVC(kernel='rbf', gamma=1, C=1, decision_function_shape='ovo').fit(X_train, y_train)\n",
    "sig = svm.SVC(kernel='sigmoid', C=1, decision_function_shape='ovo').fit(X_train, y_train)"
   ]
  },
  {
   "cell_type": "code",
   "execution_count": 121,
   "metadata": {
    "colab": {
     "base_uri": "https://localhost:8080/"
    },
    "id": "IZY0_QWyAJfi",
    "outputId": "fd0a0ca7-ad88-4d53-d77a-3ecb624053c0"
   },
   "outputs": [
    {
     "name": "stdout",
     "output_type": "stream",
     "text": [
      "Linear - Avg accuracy:0.20094276094276098\n",
      "Polynomial - Avg accuracy:0.18626262626262624\n",
      "Radial Basis - Avg accuracy:0.20067340067340064\n",
      "Sigmoid - Avg accuracy:0.1424242424242424\n"
     ]
    }
   ],
   "source": [
    "# 5 fold cross validation\n",
    "result_lin = cross_val_score(linear, X_train, y_train.ravel(), cv = kf, scoring='accuracy')\n",
    "result_pol = cross_val_score(poly, X_train, y_train.ravel(), cv = kf, scoring='accuracy')\n",
    "result_rbf = cross_val_score(rbf, X_train, y_train.ravel(), cv = kf, scoring='accuracy')\n",
    "result_sig = cross_val_score(sig, X_train, y_train.ravel(), cv = kf, scoring='accuracy')\n",
    " \n",
    "print(f'Linear - Avg accuracy:{result_lin.mean()}')\n",
    "print(f'Polynomial - Avg accuracy:{result_pol.mean()}')\n",
    "print(f'Radial Basis - Avg accuracy:{result_rbf.mean()}')\n",
    "print(f'Sigmoid - Avg accuracy:{result_sig.mean()}')"
   ]
  },
  {
   "cell_type": "code",
   "execution_count": 122,
   "metadata": {
    "colab": {
     "base_uri": "https://localhost:8080/"
    },
    "id": "gYsvVNi8BEP_",
    "outputId": "758e698f-424f-4cfb-e41b-5a8fbab321f5"
   },
   "outputs": [
    {
     "name": "stdout",
     "output_type": "stream",
     "text": [
      "Classification Report for Linear SVM\n",
      "              precision    recall  f1-score   support\n",
      "\n",
      "          70       0.56      0.45      0.50        11\n",
      "          71       0.00      0.00      0.00         6\n",
      "          72       0.00      0.00      0.00        11\n",
      "          73       0.17      0.67      0.27         9\n",
      "          74       0.00      0.00      0.00         9\n",
      "          75       0.00      0.00      0.00         9\n",
      "          76       0.05      0.17      0.08         6\n",
      "          77       0.00      0.00      0.00        13\n",
      "          78       0.00      0.00      0.00         9\n",
      "          79       0.00      0.00      0.00        10\n",
      "          80       0.00      0.00      0.00         9\n",
      "          81       0.00      0.00      0.00         8\n",
      "          82       0.14      0.12      0.13         8\n",
      "\n",
      "    accuracy                           0.11       118\n",
      "   macro avg       0.07      0.11      0.08       118\n",
      "weighted avg       0.08      0.11      0.08       118\n",
      "\n",
      "Classification Report for Poly SVM\n",
      "              precision    recall  f1-score   support\n",
      "\n",
      "          70       0.67      0.36      0.47        11\n",
      "          71       0.00      0.00      0.00         6\n",
      "          72       0.00      0.00      0.00        11\n",
      "          73       0.23      0.56      0.32         9\n",
      "          74       0.00      0.00      0.00         9\n",
      "          75       0.50      0.11      0.18         9\n",
      "          76       0.00      0.00      0.00         6\n",
      "          77       0.00      0.00      0.00        13\n",
      "          78       0.09      0.67      0.16         9\n",
      "          79       0.00      0.00      0.00        10\n",
      "          80       0.75      0.33      0.46         9\n",
      "          81       0.00      0.00      0.00         8\n",
      "          82       0.00      0.00      0.00         8\n",
      "\n",
      "    accuracy                           0.16       118\n",
      "   macro avg       0.17      0.16      0.12       118\n",
      "weighted avg       0.18      0.16      0.13       118\n",
      "\n",
      "Classification Report for RBF SVM\n",
      "              precision    recall  f1-score   support\n",
      "\n",
      "          70       0.50      0.27      0.35        11\n",
      "          71       0.40      0.33      0.36         6\n",
      "          72       0.00      0.00      0.00        11\n",
      "          73       0.23      0.56      0.32         9\n",
      "          74       0.33      0.11      0.17         9\n",
      "          75       0.12      0.11      0.12         9\n",
      "          76       0.05      0.17      0.08         6\n",
      "          77       0.00      0.00      0.00        13\n",
      "          78       0.10      0.33      0.15         9\n",
      "          79       0.33      0.10      0.15        10\n",
      "          80       0.00      0.00      0.00         9\n",
      "          81       0.00      0.00      0.00         8\n",
      "          82       0.25      0.25      0.25         8\n",
      "\n",
      "    accuracy                           0.16       118\n",
      "   macro avg       0.18      0.17      0.15       118\n",
      "weighted avg       0.17      0.16      0.14       118\n",
      "\n",
      "Classification Report for SIG SVM\n",
      "              precision    recall  f1-score   support\n",
      "\n",
      "          70       0.00      0.00      0.00        11\n",
      "          71       0.00      0.00      0.00         6\n",
      "          72       0.00      0.00      0.00        11\n",
      "          73       0.12      0.67      0.20         9\n",
      "          74       0.00      0.00      0.00         9\n",
      "          75       0.00      0.00      0.00         9\n",
      "          76       0.17      0.17      0.17         6\n",
      "          77       0.00      0.00      0.00        13\n",
      "          78       0.00      0.00      0.00         9\n",
      "          79       0.00      0.00      0.00        10\n",
      "          80       0.00      0.00      0.00         9\n",
      "          81       0.09      0.12      0.11         8\n",
      "          82       0.20      0.62      0.30         8\n",
      "\n",
      "    accuracy                           0.11       118\n",
      "   macro avg       0.04      0.12      0.06       118\n",
      "weighted avg       0.04      0.11      0.05       118\n",
      "\n"
     ]
    },
    {
     "name": "stderr",
     "output_type": "stream",
     "text": [
      "D:\\Anaconda3\\lib\\site-packages\\sklearn\\metrics\\_classification.py:1248: UndefinedMetricWarning: Precision and F-score are ill-defined and being set to 0.0 in labels with no predicted samples. Use `zero_division` parameter to control this behavior.\n",
      "  _warn_prf(average, modifier, msg_start, len(result))\n",
      "D:\\Anaconda3\\lib\\site-packages\\sklearn\\metrics\\_classification.py:1248: UndefinedMetricWarning: Precision and F-score are ill-defined and being set to 0.0 in labels with no predicted samples. Use `zero_division` parameter to control this behavior.\n",
      "  _warn_prf(average, modifier, msg_start, len(result))\n",
      "D:\\Anaconda3\\lib\\site-packages\\sklearn\\metrics\\_classification.py:1248: UndefinedMetricWarning: Precision and F-score are ill-defined and being set to 0.0 in labels with no predicted samples. Use `zero_division` parameter to control this behavior.\n",
      "  _warn_prf(average, modifier, msg_start, len(result))\n",
      "D:\\Anaconda3\\lib\\site-packages\\sklearn\\metrics\\_classification.py:1248: UndefinedMetricWarning: Precision and F-score are ill-defined and being set to 0.0 in labels with no predicted samples. Use `zero_division` parameter to control this behavior.\n",
      "  _warn_prf(average, modifier, msg_start, len(result))\n",
      "D:\\Anaconda3\\lib\\site-packages\\sklearn\\metrics\\_classification.py:1248: UndefinedMetricWarning: Precision and F-score are ill-defined and being set to 0.0 in labels with no predicted samples. Use `zero_division` parameter to control this behavior.\n",
      "  _warn_prf(average, modifier, msg_start, len(result))\n",
      "D:\\Anaconda3\\lib\\site-packages\\sklearn\\metrics\\_classification.py:1248: UndefinedMetricWarning: Precision and F-score are ill-defined and being set to 0.0 in labels with no predicted samples. Use `zero_division` parameter to control this behavior.\n",
      "  _warn_prf(average, modifier, msg_start, len(result))\n",
      "D:\\Anaconda3\\lib\\site-packages\\sklearn\\metrics\\_classification.py:1248: UndefinedMetricWarning: Precision and F-score are ill-defined and being set to 0.0 in labels with no predicted samples. Use `zero_division` parameter to control this behavior.\n",
      "  _warn_prf(average, modifier, msg_start, len(result))\n",
      "D:\\Anaconda3\\lib\\site-packages\\sklearn\\metrics\\_classification.py:1248: UndefinedMetricWarning: Precision and F-score are ill-defined and being set to 0.0 in labels with no predicted samples. Use `zero_division` parameter to control this behavior.\n",
      "  _warn_prf(average, modifier, msg_start, len(result))\n",
      "D:\\Anaconda3\\lib\\site-packages\\sklearn\\metrics\\_classification.py:1248: UndefinedMetricWarning: Precision and F-score are ill-defined and being set to 0.0 in labels with no predicted samples. Use `zero_division` parameter to control this behavior.\n",
      "  _warn_prf(average, modifier, msg_start, len(result))\n"
     ]
    }
   ],
   "source": [
    "# predictioon\n",
    "linear_pred = linear.predict(X_test)\n",
    "poly_pred = poly.predict(X_test)\n",
    "rbf_pred = rbf.predict(X_test)\n",
    "sig_pred = sig.predict(X_test)\n",
    "\n",
    "# Classification Report\n",
    "print(f'Classification Report for Linear SVM')\n",
    "print(classification_report(y_test, linear_pred))\n",
    "\n",
    "print(f'Classification Report for Poly SVM')\n",
    "print(classification_report(y_test, poly_pred))\n",
    "\n",
    "print(f'Classification Report for RBF SVM')\n",
    "print(classification_report(y_test, rbf_pred))\n",
    "\n",
    "print(f'Classification Report for SIG SVM')\n",
    "print(classification_report(y_test, sig_pred))"
   ]
  },
  {
   "cell_type": "markdown",
   "metadata": {
    "id": "-j-Te0NzX3R4"
   },
   "source": [
    "Based on above, choose rbf svm"
   ]
  },
  {
   "cell_type": "code",
   "execution_count": 123,
   "metadata": {
    "colab": {
     "base_uri": "https://localhost:8080/"
    },
    "id": "IfK9uy8jX0Nj",
    "outputId": "ae56ab27-b395-4d60-96e5-bbc7eb4467e4"
   },
   "outputs": [
    {
     "data": {
      "text/plain": [
       "[0.15,\n",
       " 0.0971697793731692,\n",
       " 0.13559322033898305,\n",
       " 0.10388418079096044,\n",
       " 0.18,\n",
       " 0.10896055989722359,\n",
       " 0.16101694915254236,\n",
       " 0.12128040481729414,\n",
       " 0.14,\n",
       " 0.2110078909680106,\n",
       " 0.1864406779661017,\n",
       " 0.19022810286912714,\n",
       " 0.14,\n",
       " 0.1868100825727944,\n",
       " 0.17796610169491525,\n",
       " 0.17441934686910288,\n",
       " 0.14,\n",
       " 0.1747421809531533,\n",
       " 0.16101694915254236,\n",
       " 0.14346862188080467]"
      ]
     },
     "execution_count": 123,
     "metadata": {},
     "output_type": "execute_result"
    }
   ],
   "source": [
    "# save data value\n",
    "precision,recall,fscore,support=score(y_test, rbf_pred,average='weighted')\n",
    "temp = [0.14, precision, recall,fscore]\n",
    "for i in temp:\n",
    "  value.append(i)\n",
    "value"
   ]
  },
  {
   "cell_type": "markdown",
   "metadata": {
    "id": "B9cQ5ApTBj8v"
   },
   "source": [
    "K-Nearest Neighbors Model"
   ]
  },
  {
   "cell_type": "code",
   "execution_count": 124,
   "metadata": {
    "colab": {
     "base_uri": "https://localhost:8080/"
    },
    "id": "J5vg-uPeBoA1",
    "outputId": "b06ad0ea-6027-4060-d288-977aba49abaf"
   },
   "outputs": [
    {
     "data": {
      "text/plain": [
       "KNeighborsClassifier()"
      ]
     },
     "execution_count": 124,
     "metadata": {},
     "output_type": "execute_result"
    }
   ],
   "source": [
    "from sklearn.neighbors import KNeighborsClassifier\n",
    "knn = KNeighborsClassifier(n_neighbors=5)\n",
    "knn.fit(X_train, y_train.ravel())"
   ]
  },
  {
   "cell_type": "code",
   "execution_count": 125,
   "metadata": {
    "colab": {
     "base_uri": "https://localhost:8080/"
    },
    "id": "rk3GJ8UJBuEA",
    "outputId": "cf84d928-0284-48e8-ec76-745af8553751"
   },
   "outputs": [
    {
     "name": "stdout",
     "output_type": "stream",
     "text": [
      " Avg accuracy:0.18262626262626264\n"
     ]
    }
   ],
   "source": [
    "# 5 fold cross validation\n",
    "result_knn = cross_val_score(knn, X_train, y_train.ravel(), cv = kf, scoring='accuracy')\n",
    "\n",
    "print(f' Avg accuracy:{result_knn.mean()}')"
   ]
  },
  {
   "cell_type": "code",
   "execution_count": 126,
   "metadata": {
    "colab": {
     "base_uri": "https://localhost:8080/"
    },
    "id": "7pw6FZBEB6lU",
    "outputId": "b2069c07-0fb9-4f44-a73a-e3f1e228d6ec"
   },
   "outputs": [
    {
     "name": "stdout",
     "output_type": "stream",
     "text": [
      "              precision    recall  f1-score   support\n",
      "\n",
      "          70       0.35      0.55      0.43        11\n",
      "          71       0.20      0.67      0.31         6\n",
      "          72       0.00      0.00      0.00        11\n",
      "          73       0.09      0.11      0.10         9\n",
      "          74       0.17      0.11      0.13         9\n",
      "          75       0.08      0.11      0.10         9\n",
      "          76       0.12      0.17      0.14         6\n",
      "          77       0.20      0.08      0.11        13\n",
      "          78       0.13      0.22      0.17         9\n",
      "          79       0.00      0.00      0.00        10\n",
      "          80       0.17      0.11      0.13         9\n",
      "          81       0.00      0.00      0.00         8\n",
      "          82       0.20      0.12      0.15         8\n",
      "\n",
      "    accuracy                           0.16       118\n",
      "   macro avg       0.13      0.17      0.14       118\n",
      "weighted avg       0.13      0.16      0.13       118\n",
      "\n"
     ]
    }
   ],
   "source": [
    "# prediction\n",
    "y_pred_knn = knn.predict(X_test)\n",
    "\n",
    "# Classification Report\n",
    "print(classification_report(y_test, y_pred_knn))"
   ]
  },
  {
   "cell_type": "code",
   "execution_count": 127,
   "metadata": {
    "colab": {
     "base_uri": "https://localhost:8080/"
    },
    "id": "zOWzdIHvX_zB",
    "outputId": "05c4fbe4-e649-47e4-d7b0-11e7f1db24ae"
   },
   "outputs": [
    {
     "data": {
      "text/plain": [
       "[0.15,\n",
       " 0.0971697793731692,\n",
       " 0.13559322033898305,\n",
       " 0.10388418079096044,\n",
       " 0.18,\n",
       " 0.10896055989722359,\n",
       " 0.16101694915254236,\n",
       " 0.12128040481729414,\n",
       " 0.14,\n",
       " 0.2110078909680106,\n",
       " 0.1864406779661017,\n",
       " 0.19022810286912714,\n",
       " 0.14,\n",
       " 0.1868100825727944,\n",
       " 0.17796610169491525,\n",
       " 0.17441934686910288,\n",
       " 0.14,\n",
       " 0.1747421809531533,\n",
       " 0.16101694915254236,\n",
       " 0.14346862188080467,\n",
       " 0.14,\n",
       " 0.1339028369437143,\n",
       " 0.16101694915254236,\n",
       " 0.13347405889778768]"
      ]
     },
     "execution_count": 127,
     "metadata": {},
     "output_type": "execute_result"
    }
   ],
   "source": [
    "# save data value\n",
    "precision,recall,fscore,support=score(y_test, y_pred_knn,average='weighted')\n",
    "temp = [0.14, precision, recall,fscore]\n",
    "for i in temp:\n",
    "  value.append(i)\n",
    "value"
   ]
  },
  {
   "cell_type": "code",
   "execution_count": 128,
   "metadata": {
    "colab": {
     "base_uri": "https://localhost:8080/",
     "height": 802
    },
    "id": "XI7DrzPZCDSG",
    "outputId": "f4fbe9da-18e2-4893-ff90-e74cfcb786e7"
   },
   "outputs": [
    {
     "data": {
      "text/html": [
       "<div>\n",
       "<style scoped>\n",
       "    .dataframe tbody tr th:only-of-type {\n",
       "        vertical-align: middle;\n",
       "    }\n",
       "\n",
       "    .dataframe tbody tr th {\n",
       "        vertical-align: top;\n",
       "    }\n",
       "\n",
       "    .dataframe thead th {\n",
       "        text-align: right;\n",
       "    }\n",
       "</style>\n",
       "<table border=\"1\" class=\"dataframe\">\n",
       "  <thead>\n",
       "    <tr style=\"text-align: right;\">\n",
       "      <th></th>\n",
       "      <th>Model</th>\n",
       "      <th>Data_Type</th>\n",
       "      <th>Number</th>\n",
       "    </tr>\n",
       "  </thead>\n",
       "  <tbody>\n",
       "    <tr>\n",
       "      <th>0</th>\n",
       "      <td>LOG-R</td>\n",
       "      <td>Accuracy</td>\n",
       "      <td>0.150000</td>\n",
       "    </tr>\n",
       "    <tr>\n",
       "      <th>1</th>\n",
       "      <td>LOG-R</td>\n",
       "      <td>Precision</td>\n",
       "      <td>0.097170</td>\n",
       "    </tr>\n",
       "    <tr>\n",
       "      <th>2</th>\n",
       "      <td>LOG-R</td>\n",
       "      <td>Recall</td>\n",
       "      <td>0.135593</td>\n",
       "    </tr>\n",
       "    <tr>\n",
       "      <th>3</th>\n",
       "      <td>LOG-R</td>\n",
       "      <td>F1</td>\n",
       "      <td>0.103884</td>\n",
       "    </tr>\n",
       "    <tr>\n",
       "      <th>4</th>\n",
       "      <td>G-NB</td>\n",
       "      <td>Accuracy</td>\n",
       "      <td>0.180000</td>\n",
       "    </tr>\n",
       "    <tr>\n",
       "      <th>5</th>\n",
       "      <td>G-NB</td>\n",
       "      <td>Precision</td>\n",
       "      <td>0.108961</td>\n",
       "    </tr>\n",
       "    <tr>\n",
       "      <th>6</th>\n",
       "      <td>G-NB</td>\n",
       "      <td>Recall</td>\n",
       "      <td>0.161017</td>\n",
       "    </tr>\n",
       "    <tr>\n",
       "      <th>7</th>\n",
       "      <td>G-NB</td>\n",
       "      <td>F1</td>\n",
       "      <td>0.121280</td>\n",
       "    </tr>\n",
       "    <tr>\n",
       "      <th>8</th>\n",
       "      <td>DT</td>\n",
       "      <td>Accuracy</td>\n",
       "      <td>0.140000</td>\n",
       "    </tr>\n",
       "    <tr>\n",
       "      <th>9</th>\n",
       "      <td>DT</td>\n",
       "      <td>Precision</td>\n",
       "      <td>0.211008</td>\n",
       "    </tr>\n",
       "    <tr>\n",
       "      <th>10</th>\n",
       "      <td>DT</td>\n",
       "      <td>Recall</td>\n",
       "      <td>0.186441</td>\n",
       "    </tr>\n",
       "    <tr>\n",
       "      <th>11</th>\n",
       "      <td>DT</td>\n",
       "      <td>F1</td>\n",
       "      <td>0.190228</td>\n",
       "    </tr>\n",
       "    <tr>\n",
       "      <th>12</th>\n",
       "      <td>RF</td>\n",
       "      <td>Accuracy</td>\n",
       "      <td>0.140000</td>\n",
       "    </tr>\n",
       "    <tr>\n",
       "      <th>13</th>\n",
       "      <td>RF</td>\n",
       "      <td>Precision</td>\n",
       "      <td>0.186810</td>\n",
       "    </tr>\n",
       "    <tr>\n",
       "      <th>14</th>\n",
       "      <td>RF</td>\n",
       "      <td>Recall</td>\n",
       "      <td>0.177966</td>\n",
       "    </tr>\n",
       "    <tr>\n",
       "      <th>15</th>\n",
       "      <td>RF</td>\n",
       "      <td>F1</td>\n",
       "      <td>0.174419</td>\n",
       "    </tr>\n",
       "    <tr>\n",
       "      <th>16</th>\n",
       "      <td>RBF-SVM</td>\n",
       "      <td>Accuracy</td>\n",
       "      <td>0.140000</td>\n",
       "    </tr>\n",
       "    <tr>\n",
       "      <th>17</th>\n",
       "      <td>RBF-SVM</td>\n",
       "      <td>Precision</td>\n",
       "      <td>0.174742</td>\n",
       "    </tr>\n",
       "    <tr>\n",
       "      <th>18</th>\n",
       "      <td>RBF-SVM</td>\n",
       "      <td>Recall</td>\n",
       "      <td>0.161017</td>\n",
       "    </tr>\n",
       "    <tr>\n",
       "      <th>19</th>\n",
       "      <td>RBF-SVM</td>\n",
       "      <td>F1</td>\n",
       "      <td>0.143469</td>\n",
       "    </tr>\n",
       "    <tr>\n",
       "      <th>20</th>\n",
       "      <td>KNN</td>\n",
       "      <td>Accuracy</td>\n",
       "      <td>0.140000</td>\n",
       "    </tr>\n",
       "    <tr>\n",
       "      <th>21</th>\n",
       "      <td>KNN</td>\n",
       "      <td>Precision</td>\n",
       "      <td>0.133903</td>\n",
       "    </tr>\n",
       "    <tr>\n",
       "      <th>22</th>\n",
       "      <td>KNN</td>\n",
       "      <td>Recall</td>\n",
       "      <td>0.161017</td>\n",
       "    </tr>\n",
       "    <tr>\n",
       "      <th>23</th>\n",
       "      <td>KNN</td>\n",
       "      <td>F1</td>\n",
       "      <td>0.133474</td>\n",
       "    </tr>\n",
       "  </tbody>\n",
       "</table>\n",
       "</div>"
      ],
      "text/plain": [
       "      Model  Data_Type    Number\n",
       "0     LOG-R   Accuracy  0.150000\n",
       "1     LOG-R  Precision  0.097170\n",
       "2     LOG-R     Recall  0.135593\n",
       "3     LOG-R         F1  0.103884\n",
       "4      G-NB   Accuracy  0.180000\n",
       "5      G-NB  Precision  0.108961\n",
       "6      G-NB     Recall  0.161017\n",
       "7      G-NB         F1  0.121280\n",
       "8        DT   Accuracy  0.140000\n",
       "9        DT  Precision  0.211008\n",
       "10       DT     Recall  0.186441\n",
       "11       DT         F1  0.190228\n",
       "12       RF   Accuracy  0.140000\n",
       "13       RF  Precision  0.186810\n",
       "14       RF     Recall  0.177966\n",
       "15       RF         F1  0.174419\n",
       "16  RBF-SVM   Accuracy  0.140000\n",
       "17  RBF-SVM  Precision  0.174742\n",
       "18  RBF-SVM     Recall  0.161017\n",
       "19  RBF-SVM         F1  0.143469\n",
       "20      KNN   Accuracy  0.140000\n",
       "21      KNN  Precision  0.133903\n",
       "22      KNN     Recall  0.161017\n",
       "23      KNN         F1  0.133474"
      ]
     },
     "execution_count": 128,
     "metadata": {},
     "output_type": "execute_result"
    }
   ],
   "source": [
    "# create dataframe for comparison 6 models\n",
    "models = pd.DataFrame()\n",
    "\n",
    "model = ['LOG-R','LOG-R','LOG-R','LOG-R','G-NB','G-NB','G-NB','G-NB','DT','DT','DT','DT','RF','RF','RF','RF','RBF-SVM','RBF-SVM','RBF-SVM','RBF-SVM','KNN','KNN','KNN','KNN']\n",
    "data = ['Accuracy','Precision','Recall','F1','Accuracy','Precision','Recall','F1','Accuracy','Precision','Recall','F1','Accuracy','Precision','Recall','F1','Accuracy','Precision','Recall','F1','Accuracy','Precision','Recall','F1']\n",
    "\n",
    "models['Model'] = model\n",
    "models['Data_Type'] = data\n",
    "models['Number'] = value\n",
    "\n",
    "models"
   ]
  },
  {
   "cell_type": "code",
   "execution_count": 129,
   "metadata": {
    "colab": {
     "base_uri": "https://localhost:8080/",
     "height": 673
    },
    "id": "c0pDDxhkA05i",
    "outputId": "504fcb39-0107-46f6-ce06-2362f57ef254"
   },
   "outputs": [
    {
     "name": "stderr",
     "output_type": "stream",
     "text": [
      "D:\\Anaconda3\\lib\\site-packages\\seaborn\\categorical.py:3750: UserWarning: The `size` parameter has been renamed to `height`; please update your code.\n",
      "  warnings.warn(msg, UserWarning)\n"
     ]
    },
    {
     "data": {
      "text/plain": [
       "Text(0.5, 1.0, 'Comparison of Six Models')"
      ]
     },
     "execution_count": 129,
     "metadata": {},
     "output_type": "execute_result"
    },
    {
     "data": {
      "image/png": "[encoded data removed]",
      "text/plain": [
       "<Figure size 660.975x576 with 1 Axes>"
      ]
     },
     "metadata": {
      "needs_background": "light"
     },
     "output_type": "display_data"
    }
   ],
   "source": [
    "# plot comparison\n",
    "sns.catplot(data=models, x='Model', y='Number', hue='Data_Type', palette='hls', kind='bar', size=8)\n",
    "plt.title('Comparison of Six Models')"
   ]
  },
  {
   "cell_type": "code",
   "execution_count": null,
   "metadata": {},
   "outputs": [],
   "source": []
  },
  {
   "cell_type": "code",
   "execution_count": null,
   "metadata": {},
   "outputs": [],
   "source": []
  }
 ],
 "metadata": {
  "colab": {
   "collapsed_sections": [],
   "name": "Janet.ipynb",
   "provenance": []
  },
  "kernelspec": {
   "display_name": "Python 3 (ipykernel)",
   "language": "python",
   "name": "python3"
  },
  "language_info": {
   "codemirror_mode": {
    "name": "ipython",
    "version": 3
   },
   "file_extension": ".py",
   "mimetype": "text/x-python",
   "name": "python",
   "nbconvert_exporter": "python",
   "pygments_lexer": "ipython3",
   "version": "3.9.7"
  }
 },
 "nbformat": 4,
 "nbformat_minor": 1
}
