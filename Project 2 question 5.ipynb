{
 "cells": [
  {
   "cell_type": "markdown",
   "id": "ebc186ed",
   "metadata": {},
   "source": [
    "The main function will call a function to read in a string representing a date. \n",
    "The main function will call several other functions to process that string.  \n",
    "All dates will be read and rewrite in three different methods\n",
    "The main function will repeat the entire procedure for the next date, and the next, etc., for an entire set of data."
   ]
  },
  {
   "cell_type": "code",
   "execution_count": 1,
   "id": "d8c86bfe",
   "metadata": {},
   "outputs": [],
   "source": [
    "import pandas as pd"
   ]
  },
  {
   "cell_type": "code",
   "execution_count": 2,
   "id": "c89113e3",
   "metadata": {},
   "outputs": [
    {
     "data": {
      "text/html": [
       "<div>\n",
       "<style scoped>\n",
       "    .dataframe tbody tr th:only-of-type {\n",
       "        vertical-align: middle;\n",
       "    }\n",
       "\n",
       "    .dataframe tbody tr th {\n",
       "        vertical-align: top;\n",
       "    }\n",
       "\n",
       "    .dataframe thead th {\n",
       "        text-align: right;\n",
       "    }\n",
       "</style>\n",
       "<table border=\"1\" class=\"dataframe\">\n",
       "  <thead>\n",
       "    <tr style=\"text-align: right;\">\n",
       "      <th></th>\n",
       "      <th>dates</th>\n",
       "    </tr>\n",
       "  </thead>\n",
       "  <tbody>\n",
       "    <tr>\n",
       "      <th>0</th>\n",
       "      <td>9/23/20</td>\n",
       "    </tr>\n",
       "    <tr>\n",
       "      <th>1</th>\n",
       "      <td>3/6/20</td>\n",
       "    </tr>\n",
       "    <tr>\n",
       "      <th>2</th>\n",
       "      <td>7/11/20</td>\n",
       "    </tr>\n",
       "    <tr>\n",
       "      <th>3</th>\n",
       "      <td>10/4/20</td>\n",
       "    </tr>\n",
       "    <tr>\n",
       "      <th>4</th>\n",
       "      <td>12/7/20</td>\n",
       "    </tr>\n",
       "    <tr>\n",
       "      <th>5</th>\n",
       "      <td>6/20/20</td>\n",
       "    </tr>\n",
       "    <tr>\n",
       "      <th>6</th>\n",
       "      <td>4/9/20</td>\n",
       "    </tr>\n",
       "    <tr>\n",
       "      <th>7</th>\n",
       "      <td>9/30/20</td>\n",
       "    </tr>\n",
       "    <tr>\n",
       "      <th>8</th>\n",
       "      <td>10/1/20</td>\n",
       "    </tr>\n",
       "    <tr>\n",
       "      <th>9</th>\n",
       "      <td>11/12/20</td>\n",
       "    </tr>\n",
       "  </tbody>\n",
       "</table>\n",
       "</div>"
      ],
      "text/plain": [
       "      dates\n",
       "0   9/23/20\n",
       "1    3/6/20\n",
       "2   7/11/20\n",
       "3   10/4/20\n",
       "4   12/7/20\n",
       "5   6/20/20\n",
       "6    4/9/20\n",
       "7   9/30/20\n",
       "8   10/1/20\n",
       "9  11/12/20"
      ]
     },
     "execution_count": 2,
     "metadata": {},
     "output_type": "execute_result"
    }
   ],
   "source": [
    "# read .csv file into dataframe\n",
    "df = pd.read_csv('question5.csv',header = None,names=['dates'])\n",
    "df"
   ]
  },
  {
   "cell_type": "code",
   "execution_count": null,
   "id": "89dc46e2",
   "metadata": {},
   "outputs": [],
   "source": []
  },
  {
   "cell_type": "code",
   "execution_count": 3,
   "id": "faf157a3",
   "metadata": {},
   "outputs": [],
   "source": [
    "#  This function will read in and print all dates\n",
    "def readoriginaldate(i):\n",
    "    print(i)"
   ]
  },
  {
   "cell_type": "code",
   "execution_count": 12,
   "id": "81c86aca",
   "metadata": {},
   "outputs": [],
   "source": [
    "# This function will break the original date into three pieces: a month, a day, and a two-digit year.\n",
    "# Return three pieces  to the main function\n",
    "def breakoriginaldate(i,m,d,y):\n",
    "    print('The original date is',i)\n",
    "    \n",
    "    print(m,'is the month,',d,'is the day',y,'is the year')\n",
    "    return m,d,y"
   ]
  },
  {
   "cell_type": "code",
   "execution_count": 9,
   "id": "cbc89c5d",
   "metadata": {},
   "outputs": [],
   "source": [
    "import calendar\n",
    "# This function will receive three strings, the day, the month, and the year, as parameters. \n",
    "# Using these three parameters, the print function will store and then print the date three different ways.\n",
    "def printdate3ways(months,m,d,y):\n",
    "    print('European way of printing:',d,'-',m,'-',y)\n",
    "    # Convert month numbers in months list to names by using calendar module\n",
    "    for x in months:\n",
    "        name = calendar.month_name[int(x)]\n",
    "    # Convert year to 4-digit number\n",
    "    fullyear = 2000+int(y)\n",
    "    print('American way of printing:',name,d,',',fullyear)\n",
    "    print('Full way of printing:', (str(m).zfill(2)),'-',(str(d).zfill(2)),'-',fullyear)"
   ]
  },
  {
   "cell_type": "code",
   "execution_count": 10,
   "id": "5f7c98e8",
   "metadata": {},
   "outputs": [],
   "source": [
    "def main():\n",
    "    months = []\n",
    "    days = []\n",
    "    years = []\n",
    "    # The loop will end when approaching the end of the list\n",
    "    for i in df['dates'].tolist():\n",
    "        # print original date\n",
    "        readoriginaldate(i)\n",
    "        \n",
    "        # read individual month, day, year\n",
    "        rest = i[i.index('/')+1:]\n",
    "        m = i[0:i.index('/')]\n",
    "        d = rest[0:rest.index('/')]\n",
    "        y = rest[-2:]\n",
    "        # receive each little piece and conncect with strings\n",
    "        breakoriginaldate(i,m,d,y)\n",
    "        # add the month to the months list\n",
    "        months.append(m)\n",
    "        \n",
    "        # print the date three different ways.\n",
    "        printdate3ways(months,m,d,y)\n",
    "        print('\\t')\n",
    "        "
   ]
  },
  {
   "cell_type": "code",
   "execution_count": 11,
   "id": "ffcd3dca",
   "metadata": {},
   "outputs": [
    {
     "name": "stdout",
     "output_type": "stream",
     "text": [
      "9/23/20\n",
      "The original date is 9/23/20\n",
      "9 is the month, 23 is the day 20 is the year\n",
      "European way of printing: 23 - 9 - 20\n",
      "American way of printing: September 23 , 2020\n",
      "Full way of printing: 09 - 23 - 2020\n",
      "\t\n",
      "3/6/20\n",
      "The original date is 3/6/20\n",
      "3 is the month, 6 is the day 20 is the year\n",
      "European way of printing: 6 - 3 - 20\n",
      "American way of printing: March 6 , 2020\n",
      "Full way of printing: 03 - 06 - 2020\n",
      "\t\n",
      "7/11/20\n",
      "The original date is 7/11/20\n",
      "7 is the month, 11 is the day 20 is the year\n",
      "European way of printing: 11 - 7 - 20\n",
      "American way of printing: July 11 , 2020\n",
      "Full way of printing: 07 - 11 - 2020\n",
      "\t\n",
      "10/4/20\n",
      "The original date is 10/4/20\n",
      "10 is the month, 4 is the day 20 is the year\n",
      "European way of printing: 4 - 10 - 20\n",
      "American way of printing: October 4 , 2020\n",
      "Full way of printing: 10 - 04 - 2020\n",
      "\t\n",
      "12/7/20\n",
      "The original date is 12/7/20\n",
      "12 is the month, 7 is the day 20 is the year\n",
      "European way of printing: 7 - 12 - 20\n",
      "American way of printing: December 7 , 2020\n",
      "Full way of printing: 12 - 07 - 2020\n",
      "\t\n",
      "6/20/20\n",
      "The original date is 6/20/20\n",
      "6 is the month, 20 is the day 20 is the year\n",
      "European way of printing: 20 - 6 - 20\n",
      "American way of printing: June 20 , 2020\n",
      "Full way of printing: 06 - 20 - 2020\n",
      "\t\n",
      "4/9/20\n",
      "The original date is 4/9/20\n",
      "4 is the month, 9 is the day 20 is the year\n",
      "European way of printing: 9 - 4 - 20\n",
      "American way of printing: April 9 , 2020\n",
      "Full way of printing: 04 - 09 - 2020\n",
      "\t\n",
      "9/30/20\n",
      "The original date is 9/30/20\n",
      "9 is the month, 30 is the day 20 is the year\n",
      "European way of printing: 30 - 9 - 20\n",
      "American way of printing: September 30 , 2020\n",
      "Full way of printing: 09 - 30 - 2020\n",
      "\t\n",
      "10/1/20\n",
      "The original date is 10/1/20\n",
      "10 is the month, 1 is the day 20 is the year\n",
      "European way of printing: 1 - 10 - 20\n",
      "American way of printing: October 1 , 2020\n",
      "Full way of printing: 10 - 01 - 2020\n",
      "\t\n",
      "11/12/20\n",
      "The original date is 11/12/20\n",
      "11 is the month, 12 is the day 20 is the year\n",
      "European way of printing: 12 - 11 - 20\n",
      "American way of printing: November 12 , 2020\n",
      "Full way of printing: 11 - 12 - 2020\n",
      "\t\n"
     ]
    }
   ],
   "source": [
    "main()"
   ]
  },
  {
   "cell_type": "code",
   "execution_count": null,
   "id": "ed0cb6c3",
   "metadata": {},
   "outputs": [],
   "source": []
  },
  {
   "cell_type": "code",
   "execution_count": null,
   "id": "d7ecf368",
   "metadata": {},
   "outputs": [],
   "source": []
  },
  {
   "cell_type": "code",
   "execution_count": null,
   "id": "1149377e",
   "metadata": {},
   "outputs": [],
   "source": []
  },
  {
   "cell_type": "code",
   "execution_count": null,
   "id": "3de6ed6c",
   "metadata": {},
   "outputs": [],
   "source": []
  }
 ],
 "metadata": {
  "kernelspec": {
   "display_name": "Python 3 (ipykernel)",
   "language": "python",
   "name": "python3"
  },
  "language_info": {
   "codemirror_mode": {
    "name": "ipython",
    "version": 3
   },
   "file_extension": ".py",
   "mimetype": "text/x-python",
   "name": "python",
   "nbconvert_exporter": "python",
   "pygments_lexer": "ipython3",
   "version": "3.9.7"
  }
 },
 "nbformat": 4,
 "nbformat_minor": 5
}
